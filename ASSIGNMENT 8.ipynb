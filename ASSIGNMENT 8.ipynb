{
 "cells": [
  {
   "cell_type": "code",
   "execution_count": null,
   "id": "a859a2db-7f50-4a17-8edd-7e4650509add",
   "metadata": {},
   "outputs": [],
   "source": [
    "## QUESTION 1\n",
    "\n",
    "\"\"\"When in the runtime an error that occurs after passing the syntax test is called exception\"\"\"\n",
    "\n",
    "# Difference\n",
    "\n",
    "\"\"\"Errors are the problems in a program due to which the program will stop the execution. On the other hand, exceptions are raised when some internal events occur which changes the normal flow of the program. \"\"\"\n",
    "\n",
    "\n",
    "\n"
   ]
  },
  {
   "cell_type": "code",
   "execution_count": 2,
   "id": "d489186f-eac4-4388-a77b-968203d0cd70",
   "metadata": {},
   "outputs": [
    {
     "ename": "SyntaxError",
     "evalue": "expected ':' (1371173435.py, line 5)",
     "output_type": "error",
     "traceback": [
      "\u001b[0;36m  Cell \u001b[0;32mIn[2], line 5\u001b[0;36m\u001b[0m\n\u001b[0;31m    if(a<1000)\u001b[0m\n\u001b[0m              ^\u001b[0m\n\u001b[0;31mSyntaxError\u001b[0m\u001b[0;31m:\u001b[0m expected ':'\n"
     ]
    }
   ],
   "source": [
    "# SYNTAX ERRIR EXAMPLE\n",
    "\n",
    "a = 100\n",
    "\n",
    "if(a<1000)\n",
    "    print(\"a is smaller than 1000\")"
   ]
  },
  {
   "cell_type": "code",
   "execution_count": 3,
   "id": "55f782da-9f65-4a9e-8abd-bffd2eb0e24d",
   "metadata": {},
   "outputs": [
    {
     "ename": "ZeroDivisionError",
     "evalue": "division by zero",
     "output_type": "error",
     "traceback": [
      "\u001b[0;31m---------------------------------------------------------------------------\u001b[0m",
      "\u001b[0;31mZeroDivisionError\u001b[0m                         Traceback (most recent call last)",
      "Cell \u001b[0;32mIn[3], line 5\u001b[0m\n\u001b[1;32m      1\u001b[0m \u001b[38;5;66;03m#EEXCEPTION EXAMPLE\u001b[39;00m\n\u001b[1;32m      3\u001b[0m a \u001b[38;5;241m=\u001b[39m\u001b[38;5;241m120\u001b[39m\n\u001b[0;32m----> 5\u001b[0m b \u001b[38;5;241m=\u001b[39m \u001b[43ma\u001b[49m\u001b[43m \u001b[49m\u001b[38;5;241;43m/\u001b[39;49m\u001b[43m \u001b[49m\u001b[38;5;241;43m0\u001b[39;49m\n",
      "\u001b[0;31mZeroDivisionError\u001b[0m: division by zero"
     ]
    }
   ],
   "source": [
    "#EEXCEPTION EXAMPLE\n",
    "\n",
    "a =120\n",
    "\n",
    "b = a / 0"
   ]
  },
  {
   "cell_type": "code",
   "execution_count": 4,
   "id": "963d969a-90d5-4b12-8e32-c7a514b5e38a",
   "metadata": {},
   "outputs": [
    {
     "ename": "ZeroDivisionError",
     "evalue": "division by zero",
     "output_type": "error",
     "traceback": [
      "\u001b[0;31m---------------------------------------------------------------------------\u001b[0m",
      "\u001b[0;31mZeroDivisionError\u001b[0m                         Traceback (most recent call last)",
      "Cell \u001b[0;32mIn[4], line 11\u001b[0m\n\u001b[1;32m      8\u001b[0m \u001b[38;5;66;03m#EXAMPLE:-\u001b[39;00m\n\u001b[1;32m      9\u001b[0m a \u001b[38;5;241m=\u001b[39m\u001b[38;5;241m120\u001b[39m\n\u001b[0;32m---> 11\u001b[0m b \u001b[38;5;241m=\u001b[39m \u001b[43ma\u001b[49m\u001b[43m \u001b[49m\u001b[38;5;241;43m/\u001b[39;49m\u001b[43m \u001b[49m\u001b[38;5;241;43m0\u001b[39;49m\n",
      "\u001b[0;31mZeroDivisionError\u001b[0m: division by zero"
     ]
    }
   ],
   "source": [
    "# Question 2\n",
    "\n",
    "\"\"\"\n",
    "If an exception is not handled, the runtime system will abort the program (i.e. crash) and an exception message will print to the console. The message typically includes: name of exception type.\n",
    "\n",
    "\"\"\"\n",
    "\n",
    "#EXAMPLE:-\n",
    "a =120\n",
    "\n",
    "b = a / 0"
   ]
  },
  {
   "cell_type": "code",
   "execution_count": 5,
   "id": "b1493376-9b69-4d1b-b13e-7e6fe981a6b3",
   "metadata": {},
   "outputs": [
    {
     "name": "stdout",
     "output_type": "stream",
     "text": [
      "division by zero\n"
     ]
    }
   ],
   "source": [
    "#QUESTIONS 3\n",
    "\n",
    "\"\"\"The try and except block in Python is used to catch and handle exceptions.\"\"\"\n",
    "\n",
    "# EXAMPLE:\n",
    "try:\n",
    "    a = 10/0\n",
    "except ZeroDivisionError as e:\n",
    "    print(e)\n"
   ]
  },
  {
   "cell_type": "code",
   "execution_count": 6,
   "id": "de83a019-3c4c-4b6e-a4d9-11edeaf16874",
   "metadata": {},
   "outputs": [
    {
     "name": "stdout",
     "output_type": "stream",
     "text": [
      "division by zero\n"
     ]
    }
   ],
   "source": [
    "#QUESTION 4\n",
    "\n",
    "#A:\n",
    "\n",
    "\"\"\"The try and except block in Python is used to catch and handle exceptions.\"\"\"\n",
    "\n",
    "# EXAMPLE:\n",
    "try:\n",
    "    a = 10/0\n",
    "except ZeroDivisionError as e:\n",
    "    print(e)"
   ]
  },
  {
   "cell_type": "code",
   "execution_count": null,
   "id": "fcf04f4b-9811-4faf-a32b-7780a58b7b91",
   "metadata": {},
   "outputs": [],
   "source": []
  }
 ],
 "metadata": {
  "kernelspec": {
   "display_name": "Python 3 (ipykernel)",
   "language": "python",
   "name": "python3"
  },
  "language_info": {
   "codemirror_mode": {
    "name": "ipython",
    "version": 3
   },
   "file_extension": ".py",
   "mimetype": "text/x-python",
   "name": "python",
   "nbconvert_exporter": "python",
   "pygments_lexer": "ipython3",
   "version": "3.10.8"
  }
 },
 "nbformat": 4,
 "nbformat_minor": 5
}
