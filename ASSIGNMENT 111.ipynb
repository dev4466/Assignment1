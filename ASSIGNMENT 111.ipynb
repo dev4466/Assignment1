{
 "cells": [
  {
   "cell_type": "code",
   "execution_count": null,
   "id": "5ef0a49b-4325-46ea-9d25-60233368e8fb",
   "metadata": {},
   "outputs": [],
   "source": [
    "# QUESTION 1\n",
    "\n",
    "\"\"\"Multiprocessing in python is a built in package that allows the system to run multiple that allows the system to run multiple processes simultanously\"\"\"\n",
    "\n",
    "\"\"\"It is useful for CPU bound processes such as it to will benefit from having multiple processes\"\"\""
   ]
  },
  {
   "cell_type": "code",
   "execution_count": null,
   "id": "83abbf3a-37b1-49d6-b888-878e9fef85ba",
   "metadata": {},
   "outputs": [],
   "source": [
    "#QUESTION 2\n",
    "\n",
    "\"\"\"Multiprocessing uses two or more CPUs to increase computing power, whereas multithreading uses a single process with multiple code segments to increase computing power. \"\"\""
   ]
  },
  {
   "cell_type": "code",
   "execution_count": 1,
   "id": "2aab28ef-38f7-4bac-8ebd-b3c3a5a5cd38",
   "metadata": {},
   "outputs": [
    {
     "name": "stdout",
     "output_type": "stream",
     "text": [
      "this is my main prog\n",
      "this is my multiprocessing prog\n"
     ]
    }
   ],
   "source": [
    "#QUESTION 3\n",
    "\n",
    "import multiprocessing\n",
    "def test():\n",
    "    print(\"this is my multiprocessing prog\")\n",
    "\n",
    "if __name__ == '__main__':\n",
    "    m = multiprocessing.Process(target=test)\n",
    "    print(\"this is my main prog\")\n",
    "    m.start()\n",
    "    m.join()"
   ]
  },
  {
   "cell_type": "code",
   "execution_count": null,
   "id": "5fa4c603-781e-4330-9215-dbc8c23e1d4b",
   "metadata": {},
   "outputs": [],
   "source": [
    "#QUESTION 4\n",
    "\n",
    "\"\"\"Python multiprocessing Pool can be used for parallel execution of a function across multiple input values, distributing the input data across processes \"\"\"\n",
    "\n"
   ]
  },
  {
   "cell_type": "code",
   "execution_count": null,
   "id": "c4b5cf60-3b78-407d-b5db-f12265d80b7f",
   "metadata": {},
   "outputs": [],
   "source": [
    "#QUESITON 5\n",
    "\n",
    "\"\"\"\n",
    "\n",
    "To create a pool of processes in Python, you can use the `multiprocessing` module's `Pool` class. The `multiprocessing. Pool` object will maintain a collection of worker processes, to which you can submit tasks to be executed concurrently.\n",
    "\n",
    "\"\"\""
   ]
  }
 ],
 "metadata": {
  "kernelspec": {
   "display_name": "Python 3 (ipykernel)",
   "language": "python",
   "name": "python3"
  },
  "language_info": {
   "codemirror_mode": {
    "name": "ipython",
    "version": 3
   },
   "file_extension": ".py",
   "mimetype": "text/x-python",
   "name": "python",
   "nbconvert_exporter": "python",
   "pygments_lexer": "ipython3",
   "version": "3.10.8"
  }
 },
 "nbformat": 4,
 "nbformat_minor": 5
}
