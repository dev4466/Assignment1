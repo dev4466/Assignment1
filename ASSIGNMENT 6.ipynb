{
 "cells": [
  {
   "cell_type": "code",
   "execution_count": 1,
   "id": "06db08bc-5cf6-4da7-b271-66dd9e48520d",
   "metadata": {},
   "outputs": [
    {
     "name": "stdout",
     "output_type": "stream",
     "text": [
      "dev\n",
      "18\n"
     ]
    }
   ],
   "source": [
    "## QUESTION 1\n",
    "\n",
    "\"\"\"A class is a user-defined blueprint or prototype from which objects are created.\"\"\"\n",
    "\n",
    "\"\"\"A class is a user-defined blueprint or prototype from which objects are created\"\"\"\n",
    "\n",
    "\n",
    "## example:-\n",
    "\"\"\" Here student is the class and stu1 is an object of class student\"\"\"\n",
    "class student:\n",
    "    name = \"\"\n",
    "    age = 0\n",
    "\n",
    "stu1 = student()    \n",
    "\n",
    "stu1.name = \"dev\"\n",
    "stu1.age = 18\n",
    "\n",
    "print(stu1.name)\n",
    "print(stu1.age)"
   ]
  },
  {
   "cell_type": "code",
   "execution_count": 2,
   "id": "8e247daa-9f58-47b9-882b-cbb0b5031da2",
   "metadata": {},
   "outputs": [
    {
     "data": {
      "text/plain": [
       "'\\nThere are four pillars:\\n\\n1. Encapsulation\\n2. Inheritance\\n3. Polymorphism\\n4. Abstraction\\n'"
      ]
     },
     "execution_count": 2,
     "metadata": {},
     "output_type": "execute_result"
    }
   ],
   "source": [
    "## QUESTION 2\n",
    "\n",
    "\"\"\"\n",
    "There are four pillars:\n",
    "\n",
    "1. Encapsulation\n",
    "2. Inheritance\n",
    "3. Polymorphism\n",
    "4. Abstraction\n",
    "\"\"\""
   ]
  },
  {
   "cell_type": "code",
   "execution_count": 3,
   "id": "0fc0b885-04b0-495c-b5e2-06f34cf7b1a7",
   "metadata": {},
   "outputs": [
    {
     "name": "stdout",
     "output_type": "stream",
     "text": [
      "Name: dev\n",
      "Age: 18\n"
     ]
    }
   ],
   "source": [
    "## QUESTION 3\n",
    "\n",
    "\"\"\"__init__ is a special python method that runs whenever a new object is created. These types of functions are used to initialize the attributes of that class, E.g., if the class is Person, then the attributes will be name, age, etc.\"\"\"\n",
    "\n",
    "\n",
    "class student:\n",
    "    def __init__(self, name,age):\n",
    "        self.name = name\n",
    "        self.age = age\n",
    "       \n",
    " \n",
    "    def student_name(self):\n",
    "        return (\"Name: \" + self.name)\n",
    "    \n",
    "    def student_age(self):\n",
    "        return (\"Age: \"+ self.age) \n",
    " \n",
    "s1 = student(\"dev\",\"18\")\n",
    "print(s1.student_name())\n",
    "\n",
    "print(s1.student_age())\n"
   ]
  },
  {
   "cell_type": "code",
   "execution_count": 4,
   "id": "e710e8bb-b5e2-45fd-88e2-e381116dabe3",
   "metadata": {},
   "outputs": [
    {
     "name": "stdout",
     "output_type": "stream",
     "text": [
      "dev\n",
      "18\n"
     ]
    }
   ],
   "source": [
    "## QUESTION 4\n",
    "\n",
    "\"\"\"he self variable is used to represent the instance of the class\"\"\"\n",
    "\n",
    "class myself:\n",
    "    def  __init__(self,name,age):\n",
    "        self.name = name\n",
    "        self.age = age\n",
    "\n",
    "        \n",
    "    \n",
    "m = myself(\"dev\",18)   \n",
    "\n",
    "print(m.name)\n",
    "print(m.age)"
   ]
  },
  {
   "cell_type": "code",
   "execution_count": null,
   "id": "ee56bd46-a5c9-45f8-a7c6-f88c5b713d29",
   "metadata": {},
   "outputs": [],
   "source": [
    "## QUESTION 5\n",
    "\n",
    "\"\"\"Inheritance is defined as the mechanism of inheriting the properties of the base class to the child class\"\"\"\n",
    "\n",
    "\"\"\"\n",
    "There are five types of inheritance in python programming:\n",
    "\n",
    "1) Single inheritance\n",
    "2) Multiple inheritances\n",
    "3) Multilevel inheritance\n",
    "4) Hierarchical inheritance\n",
    "5) Hybrid inheritance\n",
    "\"\"\"\n",
    "\n"
   ]
  },
  {
   "cell_type": "code",
   "execution_count": 5,
   "id": "2e1252ea-98e0-45b1-b608-031ee0a88c4d",
   "metadata": {},
   "outputs": [
    {
     "name": "stdout",
     "output_type": "stream",
     "text": [
      "i am one\n",
      "i am two\n"
     ]
    }
   ],
   "source": [
    "## 1) Single inheritance\n",
    "\n",
    "\n",
    "class class1:               #parent_class\n",
    "    print(\"i am one\")              \n",
    "    \n",
    "\n",
    "class class2(class1):       #child_class\n",
    "    print(\"i am two\")      \n",
    "   \n",
    "\n",
    "object = class2()\n",
    "\n"
   ]
  },
  {
   "cell_type": "code",
   "execution_count": 6,
   "id": "b7ea9548-41e8-41e0-bd4d-1229e2d63f7e",
   "metadata": {},
   "outputs": [
    {
     "name": "stdout",
     "output_type": "stream",
     "text": [
      "i am one\n",
      "i am two\n"
     ]
    }
   ],
   "source": [
    "## 2) Multiple inheritances\n",
    "\n",
    "\n",
    "class parent_1:\n",
    "    print(\"i am one\")\n",
    "\n",
    "class parent_2:\n",
    "    print(\"i am two\")\n",
    "\n",
    "class child(parent_1,parent_2):\n",
    "    pass\n",
    "\n",
    "obj = child()"
   ]
  },
  {
   "cell_type": "code",
   "execution_count": 7,
   "id": "10ff6fbb-5fff-4e0a-8e26-d720ad9c83ef",
   "metadata": {},
   "outputs": [
    {
     "name": "stdout",
     "output_type": "stream",
     "text": [
      "i am one\n",
      "i am two\n",
      "i am three\n"
     ]
    }
   ],
   "source": [
    "## 3) Multilevel inheritance\n",
    "\n",
    "\n",
    "class A:\n",
    "    print(\"i am one\")\n",
    "\n",
    "class B(A):\n",
    "    print(\"i am two\")\n",
    "\n",
    "class C(B):\n",
    "    print(\"i am three\")\n",
    "\n",
    "obj = C()\n"
   ]
  },
  {
   "cell_type": "code",
   "execution_count": 8,
   "id": "5061a009-58f9-4eeb-a6c5-ff2c77e68336",
   "metadata": {},
   "outputs": [
    {
     "name": "stdout",
     "output_type": "stream",
     "text": [
      "my name is :-\n",
      "one\n",
      "two\n",
      "three\n"
     ]
    }
   ],
   "source": [
    "## 4) Hierarchical inheritance\n",
    "\n",
    "\n",
    "class A:                  #parent_class\n",
    "    print(\"my name is :-\")\n",
    "    \n",
    "class B(A):               #child_class\n",
    "    print(\"one\")\n",
    "\n",
    "class C(A):               #child_class\n",
    "    print(\"two\")\n",
    "\n",
    "class D(A):               #child_class\n",
    "    print(\"three\")\n",
    "    \n",
    "\n",
    "obj_1 = B()       #Object_creation\n",
    "obj_2 = C()\n",
    "obj_3 = D()\n",
    "\n"
   ]
  },
  {
   "cell_type": "code",
   "execution_count": 9,
   "id": "162cb066-50a4-403f-97d1-96d78a64595e",
   "metadata": {},
   "outputs": [
    {
     "name": "stdout",
     "output_type": "stream",
     "text": [
      "This is Student class inheriting PC and Laptop\n",
      "This is Mouse class inheriting Laptop class\n"
     ]
    }
   ],
   "source": [
    "## 5) Hybrid inheritance\n",
    "\n",
    "class PC:\n",
    "    def fun1(self):\n",
    "        print(\"This is PC class\")\n",
    "\n",
    "class Laptop(PC):\n",
    "    def fun2(self):\n",
    "        print(\"This is Laptop class inheriting PC class\")\n",
    "\n",
    "class Mouse(Laptop):\n",
    "    def fun3(self):\n",
    "        print(\"This is Mouse class inheriting Laptop class\")\n",
    "\n",
    "class Student(Mouse, Laptop):\n",
    "    def fun4(self):\n",
    "        print(\"This is Student class inheriting PC and Laptop\")\n",
    "\n",
    "# Driver’s code\n",
    "obj = Student()\n",
    "obj1 = Mouse()\n",
    "obj.fun4()\n",
    "obj.fun3()\n"
   ]
  },
  {
   "cell_type": "code",
   "execution_count": null,
   "id": "aeef3af3-d350-4326-a3ca-d75da83b7a34",
   "metadata": {},
   "outputs": [],
   "source": []
  }
 ],
 "metadata": {
  "kernelspec": {
   "display_name": "Python 3 (ipykernel)",
   "language": "python",
   "name": "python3"
  },
  "language_info": {
   "codemirror_mode": {
    "name": "ipython",
    "version": 3
   },
   "file_extension": ".py",
   "mimetype": "text/x-python",
   "name": "python",
   "nbconvert_exporter": "python",
   "pygments_lexer": "ipython3",
   "version": "3.10.8"
  }
 },
 "nbformat": 4,
 "nbformat_minor": 5
}
