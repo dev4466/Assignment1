{
 "cells": [
  {
   "cell_type": "code",
   "execution_count": 1,
   "id": "e501a72c-e3fd-494b-ae6a-fbe8d7c288f4",
   "metadata": {},
   "outputs": [
    {
     "data": {
      "text/plain": [
       "('verna', 120, 60)"
      ]
     },
     "execution_count": 1,
     "metadata": {},
     "output_type": "execute_result"
    }
   ],
   "source": [
    "## QUESTION 1\n",
    "\n",
    "\n",
    "class vechile:\n",
    "    def __init__(self,name_of_vechicle,max_speed,average_of_vechile):\n",
    "        self.name_of_vechile = name_of_vechicle\n",
    "        self.max_speed = max_speed\n",
    "        self.average_of_vechile = average_of_vechile\n",
    "\n",
    "    def return_car_details(self) :\n",
    "        return self.name_of_vechile,self.max_speed,self.average_of_vechile\n",
    "    \n",
    "\n",
    "\n",
    "verna = vechile(\"verna\",120,60)\n",
    "\n",
    "verna.return_car_details()\n",
    "\n"
   ]
  },
  {
   "cell_type": "code",
   "execution_count": 2,
   "id": "7675f980-ed55-4dbf-818a-fc2d7444aff1",
   "metadata": {},
   "outputs": [
    {
     "name": "stdout",
     "output_type": "stream",
     "text": [
      "4\n"
     ]
    }
   ],
   "source": [
    "## QUESTION 2\n",
    "\n",
    "\n",
    "class vechile:\n",
    "    def __init__(self,name_of_vechicle,max_speed,average_of_vechile):\n",
    "        self.name_of_vechile = name_of_vechicle\n",
    "        self.max_speed = max_speed\n",
    "        self.average_of_vechile = average_of_vechile\n",
    "\n",
    "    def return_car_details(self) :\n",
    "        return self.name_of_vechile,self.max_speed,self.average_of_vechile\n",
    "    \n",
    "\n",
    "class car(vechile):\n",
    "        def seating_capacity(self ,capacity):\n",
    "                 self.capacity = capacity\n",
    "\n",
    "        def return_capacity(self):\n",
    "            return self.capacity \n",
    "        \n",
    "\n",
    "thar = car(\"thar\",120,60)\n",
    "thar.seating_capacity(4)\n",
    "print(thar.capacity)\n",
    "        "
   ]
  },
  {
   "cell_type": "code",
   "execution_count": 3,
   "id": "0a26d9a1-01bb-43f7-89c7-22e6529f24ea",
   "metadata": {},
   "outputs": [
    {
     "name": "stdout",
     "output_type": "stream",
     "text": [
      "one\n",
      "two\n"
     ]
    }
   ],
   "source": [
    "## QUESTION 3\n",
    "\n",
    "\n",
    "\"\"\"When a class is derived from more than one base class it is called multiple Inheritance\"\"\"\n",
    "\n",
    "class one:\n",
    "    def test(self):\n",
    "        return \"one\"\n",
    "    \n",
    "\n",
    "class two:\n",
    "    def test2(self):\n",
    "        return \"two\"\n",
    "    \n",
    "class three(one,two):\n",
    "    pass\n",
    "\n",
    "num = three()\n",
    "\n",
    "print(num.test())\n",
    "print(num.test2())"
   ]
  },
  {
   "cell_type": "code",
   "execution_count": 4,
   "id": "caea1d81-1bc9-4a93-9c06-1aa5ea48459d",
   "metadata": {},
   "outputs": [
    {
     "name": "stdout",
     "output_type": "stream",
     "text": [
      "21\n",
      "21\n"
     ]
    }
   ],
   "source": [
    "## QUESTION 4\n",
    "\n",
    "# Python program showing a use\n",
    "# of get() and set() method in\n",
    "# normal function\n",
    "  \n",
    "class Geek:\n",
    "    def __init__(self, age = 0):\n",
    "         self._age = age\n",
    "      \n",
    "    # getter method\n",
    "    def get_age(self):\n",
    "        return self._age\n",
    "      \n",
    "    # setter method\n",
    "    def set_age(self, x):\n",
    "        self._age = x\n",
    "  \n",
    "raj = Geek()\n",
    "  \n",
    "# setting the age using setter\n",
    "raj.set_age(21)\n",
    "  \n",
    "# retrieving age using getter\n",
    "print(raj.get_age())\n",
    "  \n",
    "print(raj._age)\n"
   ]
  },
  {
   "cell_type": "code",
   "execution_count": 5,
   "id": "63038301-fe5c-4b9c-849f-bc0e494d3853",
   "metadata": {},
   "outputs": [
    {
     "name": "stdout",
     "output_type": "stream",
     "text": [
      "i have four sides\n",
      "i am a two dimentional shape\n",
      "my color is red\n"
     ]
    }
   ],
   "source": [
    "## QUESTION 5\n",
    "\n",
    "\n",
    "\"\"\"Method overriding is a feature of object-oriented programming languages where the subclass or child class can provide the program with specific characteristics or a specific implementation process of data provided that are already defined in the parent class or superclass\"\"\"\n",
    "\n",
    "class shape:\n",
    "   def no_of_sides(self):\n",
    "        print(\"my sides are yet to be entered\")\n",
    "   def dimension(self):\n",
    "        print(\"my dimentions are yet to be entered\")\n",
    "\n",
    "\n",
    "\n",
    "class square(shape):\n",
    "    def no_of_sides(self):\n",
    "        print(\"i have four sides\")\n",
    "    def dimension(self):\n",
    "        print(\"i am a two dimentional shape\")\n",
    "    def color(self):\n",
    "        print(\"my color is red\")\n",
    "\n",
    "\n",
    "sq = square()        \n",
    "\n",
    "sq.no_of_sides()\n",
    "sq.dimension()\n",
    "sq.color()\n"
   ]
  },
  {
   "cell_type": "code",
   "execution_count": null,
   "id": "dee8fe3e-05ed-45a0-8e7f-22d0ffcd0879",
   "metadata": {},
   "outputs": [],
   "source": []
  }
 ],
 "metadata": {
  "kernelspec": {
   "display_name": "Python 3 (ipykernel)",
   "language": "python",
   "name": "python3"
  },
  "language_info": {
   "codemirror_mode": {
    "name": "ipython",
    "version": 3
   },
   "file_extension": ".py",
   "mimetype": "text/x-python",
   "name": "python",
   "nbconvert_exporter": "python",
   "pygments_lexer": "ipython3",
   "version": "3.10.8"
  }
 },
 "nbformat": 4,
 "nbformat_minor": 5
}
