{
 "cells": [
  {
   "cell_type": "code",
   "execution_count": 1,
   "id": "1c2ff91c-c6c6-4f4f-b6a7-7073506fbe64",
   "metadata": {},
   "outputs": [
    {
     "name": "stdout",
     "output_type": "stream",
     "text": [
      "[('Virat Kohli', 24936), ('Jack Kallis', 25534), ('Ricky Ponting', 27483), ('Sachin Tendulkar', 34357)]\n"
     ]
    }
   ],
   "source": [
    "## QUESTION 1\n",
    "\n",
    "\n",
    "l = [('Sachin Tendulkar', 34357), ('Ricky Ponting', 27483), ('Jack Kallis', 25534), ('Virat Kohli', 24936)]\n",
    "\n",
    "l.sort(key = lambda x: x[1])\n",
    "\n",
    "print(l)"
   ]
  },
  {
   "cell_type": "code",
   "execution_count": 2,
   "id": "131a04e2-3388-4173-bb8a-ab04614fac4d",
   "metadata": {},
   "outputs": [
    {
     "data": {
      "text/plain": [
       "[1, 4, 9, 16, 25, 36, 49, 64, 81, 100]"
      ]
     },
     "execution_count": 2,
     "metadata": {},
     "output_type": "execute_result"
    }
   ],
   "source": [
    "## QUESTION 2\n",
    "\n",
    "l2 = [1,2,3,4,5,6,7,8,9,10]\n",
    "\n",
    "list(map(lambda x : x**2,l2))\n"
   ]
  },
  {
   "cell_type": "code",
   "execution_count": 3,
   "id": "c3cfb58f-ff23-474c-b81f-b09bd7c7cbe8",
   "metadata": {},
   "outputs": [
    {
     "data": {
      "text/plain": [
       "('1', '2', '3', '4', '5', '6', '7', '8', '9', '10')"
      ]
     },
     "execution_count": 3,
     "metadata": {},
     "output_type": "execute_result"
    }
   ],
   "source": [
    "## QUESTION 3\n",
    "\n",
    "\n",
    "l3 = [1,2,3,4,5,6,7,8,9,10]\n",
    "tuple(map(lambda x : str(x),l3))\n"
   ]
  },
  {
   "cell_type": "code",
   "execution_count": 4,
   "id": "04689fd4-9f64-435b-9f98-c537ab3d67d4",
   "metadata": {},
   "outputs": [
    {
     "data": {
      "text/plain": [
       "15511210043330985984000000"
      ]
     },
     "execution_count": 4,
     "metadata": {},
     "output_type": "execute_result"
    }
   ],
   "source": [
    "## QUESTION 4\n",
    "\n",
    "\n",
    "from functools import reduce\n",
    "l4 = list(range(1,26))\n",
    "reduce(lambda x,y : x*y,l4)"
   ]
  },
  {
   "cell_type": "code",
   "execution_count": 6,
   "id": "33ae0b0d-b80e-443e-9e9b-9327109343e1",
   "metadata": {},
   "outputs": [
    {
     "data": {
      "text/plain": [
       "[2, 3, 6, 9, 27, 60, 90, 120, 46]"
      ]
     },
     "execution_count": 6,
     "metadata": {},
     "output_type": "execute_result"
    }
   ],
   "source": [
    "## QUESTION 5\n",
    "\n",
    "l5 = [2,3,6,9,27,60,90,120,55,46]\n",
    "list(filter(lambda x : x % 2 == 0 or x % 3 == 0 ,l5))\n"
   ]
  },
  {
   "cell_type": "code",
   "execution_count": 7,
   "id": "2181b2ad-ecd7-4883-97a6-9397c44c5f85",
   "metadata": {},
   "outputs": [
    {
     "data": {
      "text/plain": [
       "['php', 'aba', 'radar', 'level']"
      ]
     },
     "execution_count": 7,
     "metadata": {},
     "output_type": "execute_result"
    }
   ],
   "source": [
    "##QUESTION 6\n",
    "\n",
    "l6 =  ['python', 'php', 'aba', 'radar', 'level']\n",
    "list(filter(lambda x: x == x[::-1],l6 ))\n"
   ]
  },
  {
   "cell_type": "code",
   "execution_count": null,
   "id": "af3bb13b-43e7-4974-a3a3-083c4be7d1bd",
   "metadata": {},
   "outputs": [],
   "source": []
  }
 ],
 "metadata": {
  "kernelspec": {
   "display_name": "Python 3 (ipykernel)",
   "language": "python",
   "name": "python3"
  },
  "language_info": {
   "codemirror_mode": {
    "name": "ipython",
    "version": 3
   },
   "file_extension": ".py",
   "mimetype": "text/x-python",
   "name": "python",
   "nbconvert_exporter": "python",
   "pygments_lexer": "ipython3",
   "version": "3.10.8"
  }
 },
 "nbformat": 4,
 "nbformat_minor": 5
}
