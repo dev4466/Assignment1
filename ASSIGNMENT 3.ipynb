{
 "cells": [
  {
   "cell_type": "code",
   "execution_count": 1,
   "id": "4c391349-036d-42e9-943b-94baa8d7448f",
   "metadata": {},
   "outputs": [
    {
     "name": "stdout",
     "output_type": "stream",
     "text": [
      "[1, 3, 5, 7, 9, 11, 13, 15, 17, 19, 21, 23]\n"
     ]
    }
   ],
   "source": [
    "## QUESTION 1\n",
    "\n",
    "\n",
    "\"\"\" def keyword is  used to create a funtion\"\"\"\n",
    "\n",
    "\n",
    "a = list(range(1,25))\n",
    "def odd(a):\n",
    "    a1 = []\n",
    "    for i in a :\n",
    "        if  i % 2 != 0 :\n",
    "            a1.append(i)\n",
    "    return a1   \n",
    "\n",
    "\n",
    "print(odd(a))"
   ]
  },
  {
   "cell_type": "code",
   "execution_count": 2,
   "id": "4a73a9c4-5c6e-4633-9af2-3efece674278",
   "metadata": {},
   "outputs": [
    {
     "name": "stdout",
     "output_type": "stream",
     "text": [
      "()\n",
      "{}\n"
     ]
    }
   ],
   "source": [
    "## QUESTION 2\n",
    "\n",
    "\"\"\" *args is used in functions when we don't want give any parameter but we want an empty tuple in return\"\"\"\n",
    "\n",
    "def my(*args):\n",
    "    return args\n",
    "\n",
    "\"\"\" **kwargs is used in functions when we don't want give any parameter but we want an empty dictionary in return\"\"\"\n",
    "\n",
    "def my2(**kwargs):\n",
    "    return kwargs\n",
    "\n",
    "\n",
    "print(my())\n",
    "\n",
    "print(my2())\n",
    "\n"
   ]
  },
  {
   "cell_type": "code",
   "execution_count": 3,
   "id": "1121a745-78eb-439a-bc00-3779919e4a27",
   "metadata": {},
   "outputs": [
    {
     "name": "stdout",
     "output_type": "stream",
     "text": [
      "2\n",
      "4\n",
      "6\n",
      "8\n",
      "10\n",
      "12\n",
      "14\n",
      "16\n",
      "18\n",
      "20\n"
     ]
    }
   ],
   "source": [
    "##QUESTION 3\n",
    "\n",
    "\"\"\"an iterator is an object that allows you to iterate over collections of data, such as lists, tuples, dictionaries, and sets.\"\"\"\n",
    "\n",
    "\"\"\" iter() is the method used to initialise the iterator object and the method\n",
    "used for iteration.\"\"\"\n",
    "\n",
    "\n",
    "l =[2,4,6,8,10,12,14,16,18,20]\n",
    "\n",
    "l_it = iter(l)\n",
    "\n",
    "print((next(l_it)))\n",
    "print((next(l_it)))\n",
    "print((next(l_it)))\n",
    "print((next(l_it)))\n",
    "print((next(l_it)))\n",
    "print((next(l_it)))\n",
    "print((next(l_it)))\n",
    "print((next(l_it)))\n",
    "print((next(l_it)))\n",
    "print((next(l_it)))\n"
   ]
  },
  {
   "cell_type": "code",
   "execution_count": 4,
   "id": "5fc4ed9b-7ad3-40a9-a387-1df0da385369",
   "metadata": {},
   "outputs": [
    {
     "name": "stdout",
     "output_type": "stream",
     "text": [
      "2\n",
      "4\n",
      "6\n",
      "8\n",
      "10\n",
      "12\n",
      "14\n",
      "16\n",
      "18\n",
      "20\n"
     ]
    }
   ],
   "source": [
    " ##QUESTION 4\n",
    "\n",
    "\n",
    "\"\"\"generator function allows you to declare a function that behaves like an iterator, providing a faster and easier way to create iterators.\"\"\"\n",
    "\n",
    "\n",
    "\"\"\"yield keyword will convert an expression that is specified along with it to a generator object and return it to the caller.\"\"\"\n",
    "\n",
    "\n",
    "def  count_test(n,b):\n",
    "    a = 1\n",
    "    while a <=10:\n",
    "        c = b * a\n",
    "        yield c\n",
    "        a = a+1 \n",
    "\n",
    "\n",
    "c = count_test(10,2)\n",
    "\n",
    "\n",
    "for i in c:\n",
    "    print(i)"
   ]
  },
  {
   "cell_type": "code",
   "execution_count": 5,
   "id": "50b7facc-5323-46b0-b861-74c770ab2047",
   "metadata": {},
   "outputs": [
    {
     "name": "stdout",
     "output_type": "stream",
     "text": [
      "0\n",
      "1\n",
      "1\n",
      "2\n",
      "3\n",
      "5\n",
      "8\n",
      "13\n",
      "21\n",
      "34\n"
     ]
    }
   ],
   "source": [
    "## QUESTION 6\n",
    "\n",
    "\n",
    "def test_fib(n):\n",
    "    a,b = 0,1\n",
    "    while True:\n",
    "        yield a \n",
    "        a,b =b, a+b\n",
    "\n",
    "fib = test_fib(10)\n",
    "\n",
    "for i in range(10):\n",
    "    print(next(fib))"
   ]
  },
  {
   "cell_type": "code",
   "execution_count": null,
   "id": "442d06c5-bc02-40c6-98f1-9ccd1b43e894",
   "metadata": {},
   "outputs": [],
   "source": []
  }
 ],
 "metadata": {
  "kernelspec": {
   "display_name": "Python 3 (ipykernel)",
   "language": "python",
   "name": "python3"
  },
  "language_info": {
   "codemirror_mode": {
    "name": "ipython",
    "version": 3
   },
   "file_extension": ".py",
   "mimetype": "text/x-python",
   "name": "python",
   "nbconvert_exporter": "python",
   "pygments_lexer": "ipython3",
   "version": "3.10.8"
  }
 },
 "nbformat": 4,
 "nbformat_minor": 5
}
