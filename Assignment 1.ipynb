{
 "cells": [
  {
   "cell_type": "code",
   "execution_count": 1,
   "id": "0b18890f-c60a-4a2c-80e0-57f3bd8a4437",
   "metadata": {},
   "outputs": [
    {
     "name": "stdout",
     "output_type": "stream",
     "text": [
      "<class 'str'>\n",
      "<class 'list'>\n",
      "<class 'float'>\n",
      "<class 'tuple'>\n"
     ]
    }
   ],
   "source": [
    "##QUESTION 1 \n",
    "\n",
    "\n",
    "str = \"string\"\n",
    "\n",
    "list = [1,2,3,4]\n",
    "\n",
    "float = 243.324\n",
    "\n",
    "tuple = (1,2,3,4,\"aalu\")\n",
    "\n",
    "print(type(str))\n",
    "print(type(list))\n",
    "print(type(float))\n",
    "print(type(tuple))"
   ]
  },
  {
   "cell_type": "code",
   "execution_count": 2,
   "id": "f2911479-d2b1-406e-a49c-e4dd4de037b6",
   "metadata": {},
   "outputs": [
    {
     "name": "stdout",
     "output_type": "stream",
     "text": [
      "<class 'str'>\n",
      "<class 'str'>\n",
      "<class 'list'>\n",
      "<class 'float'>\n"
     ]
    }
   ],
   "source": [
    "##QUESTION 2\n",
    "\n",
    "\n",
    "var1 = ''\n",
    "\n",
    "var2 = '[DS,ML,PYTHON]'\n",
    "\n",
    "var3 = ['DS', 'ML','Python']\n",
    " \n",
    "var4 = 1.  \n",
    "\n",
    "print(type(var1))\n",
    "print(type(var2))\n",
    "print(type(var3))\n",
    "print(type(var4))\n"
   ]
  },
  {
   "cell_type": "code",
   "execution_count": 3,
   "id": "dcd62b0c-a974-4bab-9d11-ec05d13e4f4d",
   "metadata": {},
   "outputs": [
    {
     "name": "stdout",
     "output_type": "stream",
     "text": [
      "Division:  2.0\n",
      "Modulus:  0\n",
      "Floor Division:  2\n",
      "Power:  216\n"
     ]
    }
   ],
   "source": [
    "##QUESTION 3\n",
    "\n",
    "a = 6\n",
    "b = 3\n",
    "\n",
    "## \"/\" is used for division\n",
    "print ('Division: ', a / b)\n",
    "\n",
    "## \"%\" is used for modulus\n",
    "print ('Modulus: ', a % b)\n",
    "\n",
    "## \"//\" is used for division\n",
    "print ('Floor Division: ', a // b)\n",
    "\n",
    "## \"**\" is used for division\n",
    "print ('Power: ', a ** b)"
   ]
  },
  {
   "cell_type": "code",
   "execution_count": 4,
   "id": "1d009301-7a3a-42c6-9143-4f68422bbc56",
   "metadata": {},
   "outputs": [
    {
     "name": "stdout",
     "output_type": "stream",
     "text": [
      "1\n",
      "<class 'int'>\n",
      "1.2\n",
      "<class 'float'>\n",
      "abcd\n",
      "<class 'str'>\n",
      "True\n",
      "<class 'bool'>\n",
      "(2+4j)\n",
      "<class 'complex'>\n"
     ]
    }
   ],
   "source": [
    "##QUESTION 4\n",
    "\n",
    "\n",
    "a = [1,1.2,\"abcd\",True, 2 +4j, ]\n",
    "\n",
    "for i in a :\n",
    "    print(i)\n",
    "    print(type(i))"
   ]
  },
  {
   "cell_type": "code",
   "execution_count": 5,
   "id": "ba8abcca-8f2b-40e1-88d6-24b8bd97dcf5",
   "metadata": {},
   "outputs": [
    {
     "name": "stdout",
     "output_type": "stream",
     "text": [
      "1 is not divisible by 3\n",
      "2 is not divisible by 3\n",
      "3 is divisible by 3\n",
      "4 is not divisible by 3\n",
      "5 is not divisible by 3\n",
      "6 is divisible by 3\n",
      "7 is not divisible by 3\n",
      "8 is not divisible by 3\n",
      "9 is divisible by 3\n",
      "10 is not divisible by 3\n",
      "11 is not divisible by 3\n",
      "12 is divisible by 3\n",
      "13 is not divisible by 3\n",
      "14 is not divisible by 3\n",
      "15 is divisible by 3\n",
      "16 is not divisible by 3\n",
      "17 is not divisible by 3\n",
      "18 is divisible by 3\n",
      "19 is not divisible by 3\n",
      "20 is not divisible by 3\n",
      "21 is divisible by 3\n",
      "22 is not divisible by 3\n",
      "23 is not divisible by 3\n",
      "24 is divisible by 3\n",
      "25 is not divisible by 3\n"
     ]
    }
   ],
   "source": [
    "##QUESTION 6\n",
    "\n",
    "a = [1,2,3,4,5,6,7,8,9,10,11,12,13,14,15,16,17,18,19,20,21,22,23,24,25]\n",
    "\n",
    "for i in a :\n",
    "    if i % 3 == 0 :\n",
    "        print( i, 'is divisible by 3')\n",
    "    else :\n",
    "        print( i, 'is not divisible by 3')"
   ]
  },
  {
   "cell_type": "code",
   "execution_count": 6,
   "id": "f2e0d0aa-c60e-4426-a4e7-b7317ea4d9d2",
   "metadata": {},
   "outputs": [
    {
     "name": "stdout",
     "output_type": "stream",
     "text": [
      "A mutable object can be changed after it is create. Examples : List, Dictionary\n",
      "[1, 'two', 3, 4]\n",
      "{'name': 'rohit'}\n",
      "An immutable object cannot be changed after it is created. Examples : tuples\n"
     ]
    }
   ],
   "source": [
    "##QUESTION 7\n",
    "\n",
    "print(\"A mutable object can be changed after it is create. Examples : List, Dictionary\")\n",
    "\n",
    "list = [1,2,3,4]\n",
    "\n",
    "list[1] = 'two'\n",
    "\n",
    "\n",
    "dict = {'name' : \"dev\"}\n",
    "\n",
    "dict['name'] = \"rohit\"\n",
    "\n",
    "print(list)\n",
    "print(dict)\n",
    "\n",
    "print(\"An immutable object cannot be changed after it is created. Examples : tuples\")"
   ]
  },
  {
   "cell_type": "code",
   "execution_count": null,
   "id": "bfba7bd2-e83f-4139-93e5-09d44f0035d3",
   "metadata": {},
   "outputs": [],
   "source": []
  }
 ],
 "metadata": {
  "kernelspec": {
   "display_name": "Python 3 (ipykernel)",
   "language": "python",
   "name": "python3"
  },
  "language_info": {
   "codemirror_mode": {
    "name": "ipython",
    "version": 3
   },
   "file_extension": ".py",
   "mimetype": "text/x-python",
   "name": "python",
   "nbconvert_exporter": "python",
   "pygments_lexer": "ipython3",
   "version": "3.10.8"
  }
 },
 "nbformat": 4,
 "nbformat_minor": 5
}
