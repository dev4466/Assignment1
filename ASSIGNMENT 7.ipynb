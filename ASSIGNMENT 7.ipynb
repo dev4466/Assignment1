{
 "cells": [
  {
   "cell_type": "code",
   "execution_count": 1,
   "id": "72570845-dc0e-44ca-aae5-a1ee6dac1a68",
   "metadata": {},
   "outputs": [
    {
     "name": "stdout",
     "output_type": "stream",
     "text": [
      "yellow\n",
      "sweet\n",
      "red\n",
      "sweet\n"
     ]
    }
   ],
   "source": [
    "## QUESTION 1\n",
    "\n",
    "\n",
    "\"\"\"Abstraction is the process of hiding the internal details of an application from the outer world\"\"\"\n",
    "\n",
    "\n",
    "## EXAMPLE:-\n",
    "\n",
    "\n",
    "import abc\n",
    "class fruit:\n",
    "    \n",
    "    @abc.abstractmethod\n",
    "    def taste(self):\n",
    "        pass\n",
    "\n",
    "    @abc.abstractmethod\n",
    "    def color(self):\n",
    "        pass\n",
    "\n",
    "\n",
    "\n",
    "class apple(fruit):\n",
    "    def taste(self):\n",
    "        print(\"sweet\")\n",
    "\n",
    "    def color(self):\n",
    "        print(\"red\")    \n",
    "\n",
    "\n",
    "\n",
    "\n",
    "class mango(fruit):\n",
    "    def taste(self):\n",
    "        print(\"sweet\")\n",
    "\n",
    "    def color(self):\n",
    "        print(\"yellow\")   \n",
    "\n",
    "\n",
    "mango = mango()    \n",
    "apple = apple()\n",
    "\n",
    "\n",
    "mango.color()\n",
    "mango.taste()\n",
    "\n",
    "apple.color()\n",
    "apple.taste()\n",
    "\n"
   ]
  },
  {
   "cell_type": "code",
   "execution_count": 2,
   "id": "523d4484-0056-4f69-ae49-73939ebbde00",
   "metadata": {},
   "outputs": [],
   "source": [
    "## QUESTION 2\n",
    "\n",
    "\"\"\"Abstraction is hiding the details and implementation of the code. Encapsulation is hiding the data and controlling the visibility of the code.\n",
    "\"\"\"\n",
    "\n",
    "\n",
    "## Encapsulation example:-\n",
    "\n",
    "class bank:\n",
    "    def __init__(self,balance):\n",
    "        self.__balance = balance\n",
    "\n",
    "    def deposit(self, amount):\n",
    "        self.__balance = self.__balance + amount\n",
    "\n",
    "    def withdraw(self,amount):\n",
    "        if amount <= self.__balance:\n",
    "            self.__balance = self.__balance - amount\n",
    "        else:\n",
    "            pass   \n",
    "\n",
    "\n",
    "    def check_balance(self):\n",
    "        return self.__balance"
   ]
  },
  {
   "cell_type": "code",
   "execution_count": 5,
   "id": "2a9dee83-cf98-45e1-bd33-67204f17eb04",
   "metadata": {},
   "outputs": [],
   "source": [
    "ramu =  bank(5000)"
   ]
  },
  {
   "cell_type": "code",
   "execution_count": 4,
   "id": "bdb3efe4-82a9-44bc-9d6c-6be0c2b96e6d",
   "metadata": {},
   "outputs": [],
   "source": [
    "ramu.deposit(2000)"
   ]
  },
  {
   "cell_type": "code",
   "execution_count": 6,
   "id": "b44f1863-fa27-4519-8c05-0f197b1d5b8a",
   "metadata": {},
   "outputs": [],
   "source": [
    "ramu.withdraw(200)"
   ]
  },
  {
   "cell_type": "code",
   "execution_count": 7,
   "id": "c21e6306-0260-4278-a6a7-99a067727e21",
   "metadata": {},
   "outputs": [
    {
     "data": {
      "text/plain": [
       "4800"
      ]
     },
     "execution_count": 7,
     "metadata": {},
     "output_type": "execute_result"
    }
   ],
   "source": [
    "ramu.check_balance()"
   ]
  },
  {
   "cell_type": "code",
   "execution_count": 8,
   "id": "1a772e91-8f95-4810-a3a3-621ee9cd3344",
   "metadata": {},
   "outputs": [
    {
     "name": "stdout",
     "output_type": "stream",
     "text": [
      "yellow\n",
      "sweet\n",
      "red\n",
      "sweet\n"
     ]
    }
   ],
   "source": [
    "## Abstraction example:-\n",
    "\n",
    "import abc\n",
    "class fruit:\n",
    "    \n",
    "    @abc.abstractmethod\n",
    "    def taste(self):\n",
    "        pass\n",
    "\n",
    "    @abc.abstractmethod\n",
    "    def color(self):\n",
    "        pass\n",
    "\n",
    "\n",
    "\n",
    "class apple(fruit):\n",
    "    def taste(self):\n",
    "        print(\"sweet\")\n",
    "\n",
    "    def color(self):\n",
    "        print(\"red\")    \n",
    "\n",
    "\n",
    "\n",
    "\n",
    "class mango(fruit):\n",
    "    def taste(self):\n",
    "        print(\"sweet\")\n",
    "\n",
    "    def color(self):\n",
    "        print(\"yellow\")   \n",
    "\n",
    "\n",
    "mango = mango()    \n",
    "apple = apple()\n",
    "\n",
    "\n",
    "mango.color()\n",
    "mango.taste()\n",
    "\n",
    "apple.color()\n",
    "apple.taste()\n",
    "\n",
    "\n"
   ]
  },
  {
   "cell_type": "code",
   "execution_count": null,
   "id": "5c8c80ff-90a9-45dc-9f51-a958b26882d7",
   "metadata": {},
   "outputs": [],
   "source": []
  }
 ],
 "metadata": {
  "kernelspec": {
   "display_name": "Python 3 (ipykernel)",
   "language": "python",
   "name": "python3"
  },
  "language_info": {
   "codemirror_mode": {
    "name": "ipython",
    "version": 3
   },
   "file_extension": ".py",
   "mimetype": "text/x-python",
   "name": "python",
   "nbconvert_exporter": "python",
   "pygments_lexer": "ipython3",
   "version": "3.10.8"
  }
 },
 "nbformat": 4,
 "nbformat_minor": 5
}
