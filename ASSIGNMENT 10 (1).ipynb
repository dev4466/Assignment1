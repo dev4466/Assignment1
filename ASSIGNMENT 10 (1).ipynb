{
 "cells": [
  {
   "cell_type": "code",
   "execution_count": null,
   "id": "8e086218-69da-4645-8a54-4b2abd743136",
   "metadata": {},
   "outputs": [],
   "source": [
    "# QUESTION 1\n",
    "\n",
    "\"\"\"\n",
    "Multithreading is defined as the ability of a processor to execute multiple threads concurrently. In a simple, single-core CPU, it is achieved using frequent switching between threads.\n",
    "\"\"\"\n",
    "\n",
    "\"\"\"\n",
    "It is used because it enables efficient utiliztion of the resources as the threads share the data space and memory\n",
    "\"\"\"\n",
    "\n",
    "\"\"\"\n",
    "Threading module is the module that is used to handle threads in python\n",
    "\n",
    "\"\"\""
   ]
  },
  {
   "cell_type": "code",
   "execution_count": null,
   "id": "d615c0c0-87f4-4f2d-a8e9-e333c2f7b83c",
   "metadata": {},
   "outputs": [],
   "source": [
    "#QUESTION 2\n",
    "\n",
    "\"\"\"Threading module is used for creating, controling and managing threads\"\"\"\n",
    "\n",
    "\"\"\"\n",
    "threading.activeCount() :- Returns the number of thread objects that are active.\n",
    "\n",
    "threading.currentThread() :- Returns the number of thread objects in the caller's thread control.\n",
    "\n",
    "threading.enumerate() :- Returns a list of all thread objects that are currently active.\n",
    "\"\"\"\n",
    "\n"
   ]
  },
  {
   "cell_type": "code",
   "execution_count": null,
   "id": "e6e646f6-05c5-483f-99b0-163f1478aa5b",
   "metadata": {},
   "outputs": [],
   "source": [
    "#QUESTION 3\n",
    "\n",
    "\"\"\"\n",
    "run() :- The run() method is the entry point for a thread.\n",
    "\n",
    "start() :- The start() method starts a thread by calling the run method.\n",
    "\n",
    "join([time]) :- The join() waits for threads to terminate.\n",
    "\n",
    "isAlive() :- The isAlive() method checks whether a thread is still executing.\n",
    "\n",
    "getName() :- The getName() method returns the name of a thread.\n",
    "\n",
    "setName() :- The setName() method sets the name of a thread.\n",
    "\"\"\""
   ]
  },
  {
   "cell_type": "code",
   "execution_count": 1,
   "id": "99145d64-1572-47ca-8b72-9b39bb536868",
   "metadata": {},
   "outputs": [
    {
     "name": "stdout",
     "output_type": "stream",
     "text": [
      "Square: 100\n",
      "Cube: 1000\n",
      "Done!\n"
     ]
    }
   ],
   "source": [
    "# QUESTION 4\n",
    "\n",
    "\n",
    "# Python program to illustrate the concept\n",
    "# of threading\n",
    "# importing the threading module\n",
    "import threading\n",
    " \n",
    " \n",
    "def print_cube(num):\n",
    "    # function to print cube of given num\n",
    "    print(\"Cube: {}\" .format(num * num * num))\n",
    " \n",
    " \n",
    "def print_square(num):\n",
    "    # function to print square of given num\n",
    "    print(\"Square: {}\" .format(num * num))\n",
    " \n",
    " \n",
    "if __name__ ==\"__main__\":\n",
    "    # creating thread\n",
    "    t1 = threading.Thread(target=print_square, args=(10,))\n",
    "    t2 = threading.Thread(target=print_cube, args=(10,))\n",
    " \n",
    "    # starting thread 1\n",
    "    t1.start()\n",
    "    # starting thread 2\n",
    "    t2.start()\n",
    " \n",
    "    # wait until thread 1 is completely executed\n",
    "    t1.join()\n",
    "    # wait until thread 2 is completely executed\n",
    "    t2.join()\n",
    " \n",
    "    # both threads completely executed\n",
    "    print(\"Done!\")"
   ]
  },
  {
   "cell_type": "code",
   "execution_count": null,
   "id": "5df0607c-f72c-4b90-980f-d9dae05ed114",
   "metadata": {},
   "outputs": [],
   "source": [
    "# QUESTION 5\n",
    "\n",
    "#advantages of multithreading \n",
    "\n",
    "\"\"\"\n",
    "1. Enhanced performance by decreased development time\n",
    "2. Simplified and streamlined program coding\n",
    "3. Improvised GUI responsiveness\n",
    "4. Simultaneous and parallelized occurrence of tasks\n",
    "5. Better use of cache storage by utilization of resources\n",
    "6. Decreased cost of maintenance\n",
    "7. Better use of CPU resource \n",
    "\"\"\"\n",
    "\n",
    "#disadvantages of multithreading \n",
    "\n",
    "\"\"\" \n",
    "1. Complex debugging and testing processes\n",
    "2. Overhead switching of context\n",
    "3. Increased potential for deadlock occurrence\n",
    "4. Increased difficulty level in writing a program\n",
    "5. Unpredictable results\n",
    "\"\"\""
   ]
  },
  {
   "cell_type": "code",
   "execution_count": null,
   "id": "dda7c400-de17-41b8-bfe0-45934c99b1dc",
   "metadata": {},
   "outputs": [],
   "source": [
    "# QUESTION 6\n",
    "\n",
    "#Race condition\n",
    "\n",
    "\"\"\" A race condition occurs when two threads use the same variable at a given time.\"\"\"\n",
    "\n",
    "#Deadlock\n",
    "\n",
    "\"\"\" Deadlock exists when two threads seek one lock simultaneously.\"\"\""
   ]
  }
 ],
 "metadata": {
  "kernelspec": {
   "display_name": "Python 3 (ipykernel)",
   "language": "python",
   "name": "python3"
  },
  "language_info": {
   "codemirror_mode": {
    "name": "ipython",
    "version": 3
   },
   "file_extension": ".py",
   "mimetype": "text/x-python",
   "name": "python",
   "nbconvert_exporter": "python",
   "pygments_lexer": "ipython3",
   "version": "3.10.8"
  }
 },
 "nbformat": 4,
 "nbformat_minor": 5
}
