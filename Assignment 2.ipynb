{
 "cells": [
  {
   "cell_type": "code",
   "execution_count": 1,
   "id": "2b9c8edf-fcb3-4fb8-a325-0d0687af9d2e",
   "metadata": {},
   "outputs": [],
   "source": [
    "##QUESTION 1\n",
    "\n",
    "## Comments in Python are identified with a hash symbol, #, and extend to the end of the line.\n",
    "\n",
    "## There are two types of comments: single-line and multi-line\n",
    "\n",
    "## 1. single line comment\n",
    "\n",
    "##this is an one line comment \n",
    "\n",
    "## 2. multi-line comment\n",
    "\n",
    "#this is a multi-line  comment\n",
    "#this is a multi-line  comment\n",
    "#this is a multi-line  comment\n",
    "#this is a multi-line  comment"
   ]
  },
  {
   "cell_type": "code",
   "execution_count": 2,
   "id": "3d14ed74-f740-4d86-9380-0772e4e1f8e4",
   "metadata": {},
   "outputs": [
    {
     "name": "stdout",
     "output_type": "stream",
     "text": [
      "A variable is a string of characters and numbers associated with a piece of information. \n",
      "1\n"
     ]
    }
   ],
   "source": [
    "##QUESTION 2\n",
    "\n",
    "print(\"A variable is a string of characters and numbers associated with a piece of information. \")\n",
    "\n",
    "a = 1\n",
    "print(a)\n"
   ]
  },
  {
   "cell_type": "code",
   "execution_count": 3,
   "id": "8d4a1857-c9cb-4133-8188-33450cbc8b17",
   "metadata": {},
   "outputs": [
    {
     "name": "stdout",
     "output_type": "stream",
     "text": [
      "<class 'int'> 1\n"
     ]
    }
   ],
   "source": [
    "##QUESTION 3\n",
    "\n",
    "a = 1.3\n",
    "\n",
    "## now the value 1 in variable a is an float  data type value now we are goint to convert it into int data type\n",
    "\n",
    "a = int(a)\n",
    "\n",
    "print(type(a),a)"
   ]
  },
  {
   "cell_type": "code",
   "execution_count": 4,
   "id": "fad67071-f367-4319-b943-afb726569689",
   "metadata": {},
   "outputs": [
    {
     "name": "stdout",
     "output_type": "stream",
     "text": [
      "[2, 3]\n"
     ]
    }
   ],
   "source": [
    "##QUESTION 5\n",
    "\n",
    "\n",
    "my_list = [1,2,3,4,5]\n",
    "\n",
    "sub_list = my_list[1:3]\n",
    "\n",
    "print(sub_list)"
   ]
  },
  {
   "cell_type": "code",
   "execution_count": 5,
   "id": "4781fe6f-c4ad-42a4-9d8a-2bfabcca68bd",
   "metadata": {},
   "outputs": [
    {
     "name": "stdout",
     "output_type": "stream",
     "text": [
      "<class 'complex'>\n"
     ]
    }
   ],
   "source": [
    "##QUESTION 6\n",
    "\n",
    "\n",
    "## Complex numbers :- (x + yj) where x and y are real numbers and j is an imaginary number which is the square root of -1.\n",
    "\n",
    "a = 3 + 5j\n",
    "\n",
    "print(type(a))\n",
    "\n"
   ]
  },
  {
   "cell_type": "code",
   "execution_count": 6,
   "id": "97b196db-8078-4247-9dad-1b16029c7c26",
   "metadata": {},
   "outputs": [
    {
     "name": "stdout",
     "output_type": "stream",
     "text": [
      "25\n"
     ]
    }
   ],
   "source": [
    "##QUESTION 7\n",
    "\n",
    "\n",
    "age = 25\n",
    "\n",
    "print(age)"
   ]
  },
  {
   "cell_type": "code",
   "execution_count": 7,
   "id": "1749ac3b-318c-4513-9c46-71648e997e55",
   "metadata": {},
   "outputs": [
    {
     "name": "stdout",
     "output_type": "stream",
     "text": [
      "<class 'float'>\n"
     ]
    }
   ],
   "source": [
    "##QUESTION 8\n",
    "\n",
    "\n",
    "price = 99.9\n",
    "\n",
    "print(type(99.9))"
   ]
  },
  {
   "cell_type": "code",
   "execution_count": 8,
   "id": "61e5c02e-cb46-4ef7-9088-d5427e09e312",
   "metadata": {},
   "outputs": [
    {
     "name": "stdout",
     "output_type": "stream",
     "text": [
      "dev panchal\n"
     ]
    }
   ],
   "source": [
    "##QUESTION 9\n",
    "\n",
    "name = \"dev panchal\"\n",
    "\n",
    "print(name)"
   ]
  },
  {
   "cell_type": "code",
   "execution_count": 9,
   "id": "72becdb2-020f-46c8-ba98-a288195d594b",
   "metadata": {},
   "outputs": [
    {
     "name": "stdout",
     "output_type": "stream",
     "text": [
      "World\n"
     ]
    }
   ],
   "source": [
    "##QUESTION 10\n",
    "\n",
    "h = \"Hello, World!\"\n",
    "\n",
    "h1 = h[7:12]\n",
    "\n",
    "print(h1)"
   ]
  },
  {
   "cell_type": "code",
   "execution_count": 10,
   "id": "5c0caca0-329e-4f82-8e5f-55be91ccef86",
   "metadata": {},
   "outputs": [
    {
     "name": "stdout",
     "output_type": "stream",
     "text": [
      "True\n"
     ]
    }
   ],
   "source": [
    "## QUESTION 11\n",
    "\n",
    "\n",
    "is_student = True\n",
    "\n",
    "print(is_student)"
   ]
  },
  {
   "cell_type": "code",
   "execution_count": null,
   "id": "beb12de9-c8d2-4424-b156-2cc129fda584",
   "metadata": {},
   "outputs": [],
   "source": []
  }
 ],
 "metadata": {
  "kernelspec": {
   "display_name": "Python 3 (ipykernel)",
   "language": "python",
   "name": "python3"
  },
  "language_info": {
   "codemirror_mode": {
    "name": "ipython",
    "version": 3
   },
   "file_extension": ".py",
   "mimetype": "text/x-python",
   "name": "python",
   "nbconvert_exporter": "python",
   "pygments_lexer": "ipython3",
   "version": "3.10.8"
  }
 },
 "nbformat": 4,
 "nbformat_minor": 5
}
